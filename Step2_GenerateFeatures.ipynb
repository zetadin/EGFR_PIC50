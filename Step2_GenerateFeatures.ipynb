{
 "cells": [
  {
   "cell_type": "markdown",
   "id": "16fc8c8a",
   "metadata": {},
   "source": [
    "In step 1, I saved the molecules as RDKit object with 3D coordinates. This will enable the use of fingerprints like GETAWAY, MORSE, and USR that require those 3D coordinates.\n",
    "<p>\n",
    "For generating features, I will re-use a PyTorch Dataset subclass I had written for a previous project. Given a list of molecules, it generates values for most descriptors implemented in RDKit on first access to that molecule and cashes them for later reuse. Original version <a href=\"https://github.com/zetadin/TransferLearningFromPLS/blob/main/computeDescriptors.py\">here</a>. This Dataset subclass also supports normalization across the whole dataset, calculation of only the specified descriptor groups, and filtering of features via  a mask.\n",
    "<p>\n",
    "In my experience, including 3D descriptors comptued from docked structures in the features to be trained on improves predictive power of the resulting models. However, for this project I do not have the time or resources to dock the molecules, so I will test 3D descriptors from undocked molecules help.\n",
    "<p>\n",
    "The plan is to test 4 sets of molecular representations here:\n",
    "<ul>\n",
    "  <li>2D descriptors</li>\n",
    "  <li>2D + 3D Descriptors</li>\n",
    "  <li>Reduced dimentionality by PCA of the better of above</li>\n",
    "  <li>Reduced dimentionality exctracted from PLS for same</li>\n",
    "</ul> \n",
    "The last two are probably going to be more helpfull for overtraining in NNs than for other model types."
   ]
  },
  {
   "cell_type": "markdown",
   "id": "ffc22fc6",
   "metadata": {},
   "source": [
    "# Import the custom Dataset subclass"
   ]
  },
  {
   "cell_type": "code",
   "execution_count": 1,
   "id": "40f320e2",
   "metadata": {},
   "outputs": [],
   "source": [
    "from tqdm import tqdm, trange\n",
    "import pickle\n",
    "\n",
    "from CustomMolDataset import CustomMolDataset, dataBlocks"
   ]
  },
  {
   "cell_type": "markdown",
   "id": "3aa98143",
   "metadata": {},
   "source": [
    "# Load the molecules"
   ]
  },
  {
   "cell_type": "code",
   "execution_count": 2,
   "id": "59870d56",
   "metadata": {},
   "outputs": [],
   "source": [
    "with open(\"molecules_3D.pickle\", 'rb') as f:\n",
    "    ligs = pickle.load(f)"
   ]
  },
  {
   "cell_type": "markdown",
   "id": "307e9c64",
   "metadata": {},
   "source": [
    "# How fast is the calculation of descriptors and which ones need 3D embedding?\n",
    "Which groups of descriptors to use are set with representation_flags, a list of 0s and 1s indicating if group should be used. Here I turn them on one at a time to check if they work without 3D coordinates and how long they take."
   ]
  },
  {
   "cell_type": "code",
   "execution_count": 3,
   "id": "9fe735c7",
   "metadata": {},
   "outputs": [
    {
     "name": "stdout",
     "output_type": "stream",
     "text": [
      "MACCS               \t2D\t0.617 ms\n",
      "rdkitFP             \t2D\t0.942 ms\n",
      "minFeatFP           \t2D\t1504.012 ms\n",
      "MorganFP2           \t2D\t0.130 ms\n",
      "MorganFP3           \t2D\t0.111 ms\n",
      "Descriptors         \t2D\t5.185 ms\n",
      "EState_FP           \t2D\t1.033 ms\n",
      "Graph_desc          \t2D\t0.607 ms\n",
      "MOE                 \t2D\t0.207 ms\n",
      "MQN                 \t2D\t0.043 ms\n",
      "GETAWAY             \t3D\t0.477 ms\n",
      "AUTOCORR2D          \t2D\t0.025 ms\n",
      "AUTOCORR3D          \t3D\t0.030 ms\n",
      "BCUT2D              \t2D\t0.385 ms\n",
      "WHIM                \t3D\t0.057 ms\n",
      "RDF                 \t3D\t0.245 ms\n",
      "USR                 \t3D\t0.007 ms\n",
      "USRCUT              \t3D\t0.061 ms\n",
      "PEOE_VSA            \t2D\t0.018 ms\n",
      "SMR_VSA             \t2D\t0.006 ms\n",
      "SlogP_VSA           \t2D\t0.006 ms\n",
      "MORSE               \t3D\t0.299 ms\n"
     ]
    }
   ],
   "source": [
    "from rdkit import Chem\n",
    "from rdkit.Chem import rdmolops\n",
    "import time\n",
    "from contextlib import redirect_stderr\n",
    "from io import StringIO\n",
    "\n",
    "flags_no3D = [0]*(len(dataBlocks)) # flags to generate only 2D descriptors\n",
    "\n",
    "# test_ligands to figure out which dataBlocks are 2D, sincce I don't remember\n",
    "test_ligs=[]\n",
    "for i in range(5):\n",
    "    mol = Chem.MolFromSmiles(ligs[i].GetProp('ID'))\n",
    "    mol = rdmolops.AddHs(mol)\n",
    "    mol.SetProp(\"ID\", ligs[i].GetProp('ID'))    # ID\n",
    "    mol.SetProp(\"pIC50\", ligs[i].GetProp('pIC50')) # pIC50\n",
    "    test_ligs.append(mol)\n",
    "    \n",
    "# loop over the different blocks of descriptors CustomMolDataset knows about\n",
    "for block in range(len(dataBlocks)):\n",
    "    flags=[0]*(len(dataBlocks))\n",
    "    flags[int(dataBlocks(block))]=1 # turn on only the flag for this particular block of features\n",
    "\n",
    "    DB2D = CustomMolDataset(test_ligs,\n",
    "                          representation_flags = flags,\n",
    "                          normalize_x = False,   # do not normalize the features yet\n",
    "                          use_hdf5_cache = False, # cache results to file\n",
    "                         )\n",
    "    DB3D = CustomMolDataset(ligs[0:5],\n",
    "                          representation_flags = flags,\n",
    "                          normalize_x = False,   # do not normalize the features yet\n",
    "                          use_hdf5_cache = False, # cache results to file\n",
    "                         )\n",
    "    \n",
    "    # determine if this is a 2D or a 3D descriptor group by catching errors in \n",
    "    lbl = \"2D\"\n",
    "    start=time.time()\n",
    "    with redirect_stderr(StringIO()): # silence stderr\n",
    "        try:\n",
    "            for i in range(5):\n",
    "                _,_=DB2D[i]\n",
    "        except (RuntimeError, ValueError):\n",
    "            lbl = \"3D\"\n",
    "            start=time.time() # restart timer with embedded molecules\n",
    "            for i in range(5):\n",
    "                _,_=DB3D[i]\n",
    "    # stop timer\n",
    "    t = time.time() - start\n",
    "    # mark this block of descriptors as 2D\n",
    "    if(lbl==\"2D\"):\n",
    "        flags_no3D[int(dataBlocks(block))]=1\n",
    "    # clean up\n",
    "    del DB2D, DB3D, flags\n",
    "    \n",
    "    print(f\"{dataBlocks(block).name:20s}\\t{lbl}\\t{t*1e3/5:.3f} ms\")"
   ]
  },
  {
   "cell_type": "markdown",
   "id": "c7db9461",
   "metadata": {},
   "source": [
    "# Calculate all the quick features and  cache them\n",
    "\"minFeatFP\" is a minimal feature set from RDKit's example for configurable descriptors. It is slow. I'll skip it.\n",
    "However, even without it progress is getting temporarily stuck on some molecules. Need to find out on which set of descriptors is responcible and why.<p>\n",
    "GETAWAY Fingerprint is also slow for some molecules. Not visible above, but appears when scanning through the whole dataset below. Will skip them too.<p>\n",
    "BCUT2D still fails due to lack of Gasteiger Partial Charge assignment for Zinc. Skip them too."
   ]
  },
  {
   "cell_type": "code",
   "execution_count": 4,
   "id": "11d85d7c",
   "metadata": {},
   "outputs": [],
   "source": [
    "flags_no3D[int(dataBlocks[\"minFeatFP\"])]=0\n",
    "flags_no3D[int(dataBlocks[\"GETAWAY\"])]=0\n",
    "flags_no3D[int(dataBlocks[\"BCUT2D\"])]=0\n",
    "\n",
    "flags_w3D = [1]*(len(dataBlocks))\n",
    "flags_w3D[int(dataBlocks[\"minFeatFP\"])]=0\n",
    "flags_w3D[int(dataBlocks[\"GETAWAY\"])]=0\n",
    "flags_w3D[int(dataBlocks[\"BCUT2D\"])]=0"
   ]
  },
  {
   "cell_type": "code",
   "execution_count": 5,
   "id": "5aa6f0f3",
   "metadata": {},
   "outputs": [
    {
     "name": "stderr",
     "output_type": "stream",
     "text": [
      "MACCS: 100%|█████████████████████████████████████████████████████████████████████████████████████████| 4635/4635 [00:02<00:00, 1562.09it/s]\n",
      "rdkitFP: 100%|████████████████████████████████████████████████████████████████████████████████████████| 4635/4635 [00:10<00:00, 448.60it/s]\n",
      "MorganFP2: 100%|█████████████████████████████████████████████████████████████████████████████████████| 4635/4635 [00:01<00:00, 4144.08it/s]\n",
      "MorganFP3: 100%|█████████████████████████████████████████████████████████████████████████████████████| 4635/4635 [00:01<00:00, 3766.66it/s]\n",
      "Descriptors: 100%|████████████████████████████████████████████████████████████████████████████████████| 4635/4635 [00:38<00:00, 120.86it/s]\n",
      "EState_FP: 100%|██████████████████████████████████████████████████████████████████████████████████████| 4635/4635 [00:07<00:00, 614.46it/s]\n",
      "Graph_desc: 100%|█████████████████████████████████████████████████████████████████████████████████████| 4635/4635 [00:04<00:00, 935.77it/s]\n",
      "MOE: 100%|███████████████████████████████████████████████████████████████████████████████████████████| 4635/4635 [00:01<00:00, 3092.53it/s]\n",
      "MQN: 100%|███████████████████████████████████████████████████████████████████████████████████████████| 4635/4635 [00:01<00:00, 4489.35it/s]\n",
      "AUTOCORR2D: 100%|████████████████████████████████████████████████████████████████████████████████████| 4635/4635 [00:00<00:00, 6589.71it/s]\n",
      "AUTOCORR3D: 100%|████████████████████████████████████████████████████████████████████████████████████| 4635/4635 [00:00<00:00, 5537.03it/s]\n",
      "WHIM: 100%|██████████████████████████████████████████████████████████████████████████████████████████| 4635/4635 [00:00<00:00, 4866.45it/s]\n",
      "RDF: 100%|███████████████████████████████████████████████████████████████████████████████████████████| 4635/4635 [00:03<00:00, 1542.75it/s]\n",
      "USR: 100%|███████████████████████████████████████████████████████████████████████████████████████████| 4635/4635 [00:00<00:00, 8500.34it/s]\n",
      "USRCUT: 100%|████████████████████████████████████████████████████████████████████████████████████████| 4635/4635 [00:00<00:00, 4637.06it/s]\n",
      "PEOE_VSA: 100%|██████████████████████████████████████████████████████████████████████████████████████| 4635/4635 [00:00<00:00, 6653.53it/s]\n",
      "SMR_VSA: 100%|███████████████████████████████████████████████████████████████████████████████████████| 4635/4635 [00:00<00:00, 8508.85it/s]\n",
      "SlogP_VSA: 100%|█████████████████████████████████████████████████████████████████████████████████████| 4635/4635 [00:00<00:00, 8212.75it/s]\n",
      "MORSE: 100%|█████████████████████████████████████████████████████████████████████████████████████████| 4635/4635 [00:03<00:00, 1331.45it/s]\n"
     ]
    }
   ],
   "source": [
    " # calculate and cache the descriptors group by group to figure out which ones are getting stuck\n",
    "for block in range(len(dataBlocks)):\n",
    "    # skip minFeatFP and GETAWAY, as they are the slow ones\n",
    "    if(dataBlocks(block).name==\"minFeatFP\" or\n",
    "       dataBlocks(block).name==\"GETAWAY\" or\n",
    "       dataBlocks(block).name==\"BCUT2D\"):\n",
    "        continue;\n",
    "        \n",
    "    flags=[0]*(len(dataBlocks))\n",
    "    flags[int(dataBlocks(block))]=1 # turn on only the flag for this particular block of features\n",
    "    DB = CustomMolDataset(ligs,\n",
    "                      representation_flags = flags,\n",
    "                      normalize_x = False,   # do not normalize the features yet\n",
    "                      use_hdf5_cache = True, # cache results to file\n",
    "                      name = \"EGFR_set_all_features\"\n",
    "                     )\n",
    "    \n",
    "    for i in trange(0, len(ligs), desc=dataBlocks(block).name):\n",
    "        _,_=DB[i]\n",
    "        \n",
    "    del DB"
   ]
  },
  {
   "cell_type": "markdown",
   "id": "02241139",
   "metadata": {},
   "source": [
    "# How many features do we have now and how many are unique and finite?\n",
    "Features area now saved to HDD. How many of them are actually usable?"
   ]
  },
  {
   "cell_type": "code",
   "execution_count": 20,
   "id": "23606f07",
   "metadata": {},
   "outputs": [
    {
     "name": "stdout",
     "output_type": "stream",
     "text": [
      "2D+3D descriptors:\n",
      "Shape of all data: (4635, 7680)\n",
      "Variable (non-constant) features: 7532\n",
      "Finite (no nan or inf for any ligand) features: 7520\n",
      "Highly correlated (>=1.0) features to remove: 92\n",
      "Keapt features: 7428\n",
      "\n",
      "\n",
      "2D descriptors only:\n",
      "Shape of all data: (4635, 6980)\n",
      "Variable (non-constant) features: 6832\n",
      "Finite (no nan or inf for any ligand) features: 6820\n",
      "Highly correlated (>=1.0) features to remove: 80\n",
      "Keapt features: 6740\n"
     ]
    }
   ],
   "source": [
    "import numpy as np\n",
    "\n",
    "# Function that eliminates non-useful features\n",
    "# Returns list of feature indeces to keep.\n",
    "# These can be passed to CustomMolDataset as an X_filter to only see desired features\n",
    "def buildFeatureFilter(dataset):\n",
    "    allX=np.array([entry[0] for entry in dataset])\n",
    "    print(\"Shape of all data:\", allX.shape)\n",
    "\n",
    "    # exclude features that are always constant\n",
    "    keep_feature_indeces = np.where(np.logical_not(np.all(allX == allX[0,:], axis=0)))[0]\n",
    "    print(f\"Variable (non-constant) features: {len(keep_feature_indeces)}\")\n",
    "\n",
    "    #purge features containing nans\n",
    "    keep_feature_indeces = keep_feature_indeces[np.all(np.isfinite(allX[:,keep_feature_indeces]), axis=0)]\n",
    "    print(f\"Finite (no nan or inf for any ligand) features: {len(keep_feature_indeces)}\")\n",
    "\n",
    "    # correlation\n",
    "    cormat=np.corrcoef(allX[:,keep_feature_indeces].transpose())\n",
    "    cormat -= np.tril(cormat) # remove self correlation and lower triangular\n",
    "    cormat=np.abs(cormat) # absolute values\n",
    "\n",
    "    # find any duplicate features. They will have correlation = 1 to another feature.\n",
    "    cor_threshhold = 1.0\n",
    "    high_cor_pairs = np.where(cormat>=cor_threshhold)\n",
    "    to_remove = np.unique(high_cor_pairs[0]) # indeces to the keep_feature_indeces array\n",
    "    print(f\"Highly correlated (>={cor_threshhold}) features to remove: {len(to_remove)}\")\n",
    "\n",
    "    # remove the duplicate features\n",
    "    keep_mask = np.ones(len(keep_feature_indeces), np.bool_)\n",
    "    keep_mask[to_remove] = 0\n",
    "    keep_feature_indeces = keep_feature_indeces[keep_mask]\n",
    "\n",
    "    print(f\"Keapt features: {len(keep_feature_indeces)}\")\n",
    "    return(keep_feature_indeces)\n",
    "\n",
    "\n",
    "# run this for both 2D+3D and just 2D feature combos\n",
    "print(\"2D+3D descriptors:\")\n",
    "DB = CustomMolDataset(ligs,\n",
    "                  representation_flags = flags_w3D,\n",
    "                  normalize_x = False,   # do not normalize the features yet\n",
    "                  use_hdf5_cache = True, # cache results to file\n",
    "                  name = \"EGFR_set_all_features\"\n",
    "                 )\n",
    "X_filt_w3D = buildFeatureFilter(DB)\n",
    "del DB\n",
    "\n",
    "# just 2D\n",
    "print(\"\\n\\n2D descriptors only:\")\n",
    "DB = CustomMolDataset(ligs,\n",
    "                  representation_flags = flags_no3D,\n",
    "                  normalize_x = False,   # do not normalize the features yet\n",
    "                  use_hdf5_cache = True, # cache results to file\n",
    "                  name = \"EGFR_set_all_features\"\n",
    "                 )\n",
    "X_filt_no3D = buildFeatureFilter(DB)\n",
    "del DB"
   ]
  },
  {
   "cell_type": "markdown",
   "id": "ff0615c4",
   "metadata": {},
   "source": [
    "## Save the filters"
   ]
  },
  {
   "cell_type": "code",
   "execution_count": 7,
   "id": "3be836ef",
   "metadata": {},
   "outputs": [],
   "source": [
    "with open(\"X_filt_w3D.pickle\", 'wb') as f:\n",
    "    pickle.dump(X_filt_w3D, f)\n",
    "\n",
    "with open(\"X_filt_no3D.pickle\", 'wb') as f:\n",
    "    pickle.dump(X_filt_no3D, f)"
   ]
  }
 ],
 "metadata": {
  "kernelspec": {
   "display_name": "Python 3 (ipykernel)",
   "language": "python",
   "name": "python3"
  },
  "language_info": {
   "codemirror_mode": {
    "name": "ipython",
    "version": 3
   },
   "file_extension": ".py",
   "mimetype": "text/x-python",
   "name": "python",
   "nbconvert_exporter": "python",
   "pygments_lexer": "ipython3",
   "version": "3.8.10"
  }
 },
 "nbformat": 4,
 "nbformat_minor": 5
}
