{
 "cells": [
  {
   "cell_type": "markdown",
   "id": "e5b57ab5",
   "metadata": {},
   "source": [
    "In step 1, I saved the molecules as RDKit object with 3D coordinates. This will enable the use of 3D descriptors like GETAWAY and various surface descriptors (VSA).\n",
    "<p>\n",
    "For generating features, I will re-use a PyTorch Dataset subclass I had written for a previous project. Given a list of molecules, it generates values for most descriptors implemented in RDKit on first access to that molecule and cashes them for later reuse. Original version <a href=\"https://github.com/zetadin/TransferLearningFromPLS/blob/main/computeDescriptors.py\">here</a>. This Dataset subclass also supports normalization across the whole dataset, calculation of only the specified descriptor groups, and filtering of features via  a mask. The downside is that it caches results to the hard drive inefficiently, with a lot of separate writes, so be ware of using it with an SSD.\n",
    "<p>\n",
    "In my experience, including 3D descriptors comptued from docked structures in the features to be trained on improves predictive power of the resulting models. However, for this project I do not have the time or resources to dock the molecules, so I will test 3D descriptors from undocked molecules help.\n",
    "<p>\n",
    "The plan is to test 4 sets of molecular representations here:\n",
    "<ul>\n",
    "  <li>2D descriptors</li>\n",
    "  <li>2D + 3D Descriptors</li>\n",
    "  <li>Reduced dimentionality by PCA of the better of above</li>\n",
    "  <li>Reduced dimentionality exctracted from PLS for same</li>\n",
    "</ul> \n",
    "The last two are probably going to be more helpfull for overtraining in NNs than for other model types."
   ]
  },
  {
   "cell_type": "markdown",
   "id": "ffc22fc6",
   "metadata": {},
   "source": [
    "# Import the custom Dataset subclass"
   ]
  },
  {
   "cell_type": "code",
   "execution_count": 2,
   "id": "40f320e2",
   "metadata": {},
   "outputs": [],
   "source": [
    "from tqdm import tqdm, trange\n",
    "import pickle\n",
    "\n",
    "from CustomMolDataset import CustomMolDataset"
   ]
  },
  {
   "cell_type": "markdown",
   "id": "ad10c9b4",
   "metadata": {},
   "source": [
    "# Load the molecules"
   ]
  },
  {
   "cell_type": "code",
   "execution_count": 4,
   "id": "e91955da",
   "metadata": {},
   "outputs": [],
   "source": [
    "with open(\"molecules_3D.pickle\", 'rb') as f:\n",
    "    ligs = pickle.load(f)"
   ]
  },
  {
   "cell_type": "code",
   "execution_count": null,
   "id": "db549945",
   "metadata": {},
   "outputs": [],
   "source": [
    "# "
   ]
  },
  {
   "cell_type": "code",
   "execution_count": null,
   "id": "acb67ac0",
   "metadata": {},
   "outputs": [],
   "source": []
  }
 ],
 "metadata": {
  "kernelspec": {
   "display_name": "Python 3 (ipykernel)",
   "language": "python",
   "name": "python3"
  },
  "language_info": {
   "codemirror_mode": {
    "name": "ipython",
    "version": 3
   },
   "file_extension": ".py",
   "mimetype": "text/x-python",
   "name": "python",
   "nbconvert_exporter": "python",
   "pygments_lexer": "ipython3",
   "version": "3.8.10"
  }
 },
 "nbformat": 4,
 "nbformat_minor": 5
}
