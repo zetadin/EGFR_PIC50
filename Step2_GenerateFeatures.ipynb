{
 "cells": [
  {
   "cell_type": "markdown",
   "id": "d997d294",
   "metadata": {},
   "source": [
    "In step 1, I saved the molecules as RDKit object with 3D coordinates. This will enable the use of 3D descriptors like GETAWAY and various surface descriptors (VSA).\n",
    "<p>\n",
    "For generating features, I will re-use a PyTorch Dataset subclass I had written for a previous project. Given a list of molecules, it generates values for most descriptors implemented in RDKit on first acess to that molecule and cashes them for later reuse. Original version <a href=\"https://github.com/zetadin/TransferLearningFromPLS/blob/main/computeDescriptors.py\">here</a>."
   ]
  },
  {
   "cell_type": "markdown",
   "id": "ffc22fc6",
   "metadata": {},
   "source": [
    "# Import the custom Dataset subclass"
   ]
  },
  {
   "cell_type": "code",
   "execution_count": 4,
   "id": "40f320e2",
   "metadata": {},
   "outputs": [],
   "source": [
    "from tqdm import tqdm, trange\n",
    "\n",
    "from CustomMolDataset import CustomMolDataset"
   ]
  }
 ],
 "metadata": {
  "kernelspec": {
   "display_name": "Python 3 (ipykernel)",
   "language": "python",
   "name": "python3"
  },
  "language_info": {
   "codemirror_mode": {
    "name": "ipython",
    "version": 3
   },
   "file_extension": ".py",
   "mimetype": "text/x-python",
   "name": "python",
   "nbconvert_exporter": "python",
   "pygments_lexer": "ipython3",
   "version": "3.8.10"
  }
 },
 "nbformat": 4,
 "nbformat_minor": 5
}
