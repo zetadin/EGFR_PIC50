{
 "cells": [
  {
   "cell_type": "markdown",
   "id": "6400d5d0",
   "metadata": {},
   "source": [
    "This file trains and compares simple models from scikit-learn.<br>\n",
    "Given the number of molecules in the dataset, they are likely to perform better than neural networks would.\n",
    "\n",
    "<p>\n",
    "The task is to distinguish if a molecule has a pIC50>8 or not. Therefore, we are interested in binary classifiers, like SVM, random forest, and naive bayes methods. Loss for them is typicaly measured with cross entropy, while their validation is often scored on acuracy, recall and derrived measures (L1), as well as the area under the ROC curve."
   ]
  },
  {
   "cell_type": "markdown",
   "id": "6c6b958b",
   "metadata": {},
   "source": [
    "# Load the libraries"
   ]
  },
  {
   "cell_type": "code",
   "execution_count": 1,
   "id": "51ead8cd",
   "metadata": {},
   "outputs": [],
   "source": [
    "import pickle\n",
    "import numpy as np\n",
    "import matplotlib\n",
    "from matplotlib import pyplot as plt\n",
    "from tqdm import tqdm, trange\n",
    "\n",
    "from CustomMolDataset import CustomMolDataset, dataBlocks"
   ]
  },
  {
   "cell_type": "markdown",
   "id": "4c374474",
   "metadata": {},
   "source": [
    "# Load the data"
   ]
  },
  {
   "cell_type": "code",
   "execution_count": 12,
   "id": "b34dc6f7",
   "metadata": {},
   "outputs": [],
   "source": [
    "# molecules\n",
    "with open(\"molecules_3D.pickle\", 'rb') as f:\n",
    "    ligs = pickle.load(f)\n",
    "    \n",
    "# feature filters\n",
    "with open(\"X_filt_w3D.pickle\", 'rb') as f:\n",
    "    X_filt_w3D=pickle.load(f)\n",
    "with open(\"X_filt_no3D.pickle\", 'rb') as f:\n",
    "    X_filt_no3D=pickle.load(f)\n",
    "\n",
    "\n",
    "# CustomMolDatasets\n",
    "DescriptorBlocknames_no3D = [\"MACCS\", \"rdkitFP\", \"MorganFP2\", \"MorganFP3\",\n",
    "                             \"Descriptors\", \"EState_FP\", \"Graph_desc\",\n",
    "                             \"MOE\", \"MQN\", \"AUTOCORR2D\", \"PEOE_VSA\",\n",
    "                             \"SMR_VSA\", \"SlogP_VSA\"]\n",
    "DescriptorBlocknames_w3D = DescriptorBlocknames_no3D + [\n",
    "                             \"AUTOCORR3D\", \"WHIM\", \"RDF\",\n",
    "                             \"USR\", \"USRCUT\", \"MORSE\"]\n",
    "flags_no3D = [int(dataBlocks(i).name in DescriptorBlocknames_no3D) for i in range(len(dataBlocks))]\n",
    "flags_w3D = [int(dataBlocks(i).name in DescriptorBlocknames_w3D) for i in range(len(dataBlocks))]\n",
    "\n",
    "DB_no3D = CustomMolDataset(ligs,\n",
    "                  representation_flags = flags_no3D,\n",
    "                  X_filter=X_filt_no3D,  # feature filter\n",
    "                  normalize_x = True,   # now we normalize the features\n",
    "                  use_hdf5_cache = \"read-only\", # read cache from file\n",
    "                  name = \"EGFR_set_all_features\"\n",
    "                 )\n",
    "DB_no3D.find_normalization_factors() # will also build a faster in-memory cache\n",
    "DB_no3D.cache_fp.close() # close the file handle so next dataset can also access it\n",
    "\n",
    "DB_w3D = CustomMolDataset(ligs,\n",
    "                  representation_flags = flags_w3D,\n",
    "                  X_filter=X_filt_w3D, # feature filter\n",
    "                  normalize_x = True,   # now we normalize the features\n",
    "                  use_hdf5_cache = \"read-only\", # read cache from file\n",
    "                  name = \"EGFR_set_all_features\"\n",
    "                 )\n",
    "DB_no3D.find_normalization_factors()\n",
    "DB_no3D.cache_fp.close()"
   ]
  },
  {
   "cell_type": "markdown",
   "id": "2400fa53",
   "metadata": {},
   "source": [
    "# Function that summarises classifier performance"
   ]
  },
  {
   "cell_type": "code",
   "execution_count": null,
   "id": "d7c5ccaf",
   "metadata": {},
   "outputs": [],
   "source": [
    "# TODO"
   ]
  },
  {
   "cell_type": "markdown",
   "id": "1cbe288b",
   "metadata": {},
   "source": [
    "# Train SVMs"
   ]
  },
  {
   "cell_type": "code",
   "execution_count": null,
   "id": "f0c2ca69",
   "metadata": {},
   "outputs": [],
   "source": []
  }
 ],
 "metadata": {
  "kernelspec": {
   "display_name": "Python 3 (ipykernel)",
   "language": "python",
   "name": "python3"
  },
  "language_info": {
   "codemirror_mode": {
    "name": "ipython",
    "version": 3
   },
   "file_extension": ".py",
   "mimetype": "text/x-python",
   "name": "python",
   "nbconvert_exporter": "python",
   "pygments_lexer": "ipython3",
   "version": "3.8.10"
  }
 },
 "nbformat": 4,
 "nbformat_minor": 5
}
