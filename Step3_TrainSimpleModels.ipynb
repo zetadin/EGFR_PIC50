{
 "cells": [
  {
   "cell_type": "markdown",
   "id": "6400d5d0",
   "metadata": {},
   "source": [
    "This file trains and compares simple models from scikit-learn.<br>\n",
    "Given the number of molecules in the dataset, they are likely to perform better than neural networks would.\n",
    "\n",
    "<p>\n",
    "The task is to distinguish if a molecule has a pIC50>8 or not. Therefore, we are interested in binary classifiers, like SVM, random forest, and naive bayes methods. Loss for them is typicaly measured with cross entropy, while their validation is often scored on acuracy, recall and derrived measures (L1), as well as the area under the ROC curve."
   ]
  },
  {
   "cell_type": "markdown",
   "id": "6c6b958b",
   "metadata": {},
   "source": [
    "# Load the libraries"
   ]
  },
  {
   "cell_type": "code",
   "execution_count": 1,
   "id": "51ead8cd",
   "metadata": {},
   "outputs": [],
   "source": [
    "import pickle\n",
    "import numpy as np\n",
    "import matplotlib\n",
    "from matplotlib import pyplot as plt\n",
    "from tqdm import tqdm, trange\n",
    "\n",
    "from CustomMolDataset import CustomMolDataset, dataBlocks"
   ]
  },
  {
   "cell_type": "markdown",
   "id": "4c374474",
   "metadata": {},
   "source": [
    "# Load the data"
   ]
  },
  {
   "cell_type": "code",
   "execution_count": 12,
   "id": "b34dc6f7",
   "metadata": {},
   "outputs": [],
   "source": [
    "# molecules\n",
    "with open(\"molecules_3D.pickle\", 'rb') as f:\n",
    "    ligs = pickle.load(f)\n",
    "    \n",
    "# feature filters\n",
    "with open(\"X_filt_w3D.pickle\", 'rb') as f:\n",
    "    X_filt_w3D=pickle.load(f)\n",
    "with open(\"X_filt_no3D.pickle\", 'rb') as f:\n",
    "    X_filt_no3D=pickle.load(f)\n",
    "\n",
    "\n",
    "# CustomMolDatasets\n",
    "DescriptorBlocknames_no3D = [\"MACCS\", \"rdkitFP\", \"MorganFP2\", \"MorganFP3\",\n",
    "                             \"Descriptors\", \"EState_FP\", \"Graph_desc\",\n",
    "                             \"MOE\", \"MQN\", \"AUTOCORR2D\", \"PEOE_VSA\",\n",
    "                             \"SMR_VSA\", \"SlogP_VSA\"]\n",
    "DescriptorBlocknames_w3D = DescriptorBlocknames_no3D + [\n",
    "                             \"AUTOCORR3D\", \"WHIM\", \"RDF\",\n",
    "                             \"USR\", \"USRCUT\", \"MORSE\"]\n",
    "flags_no3D = [int(dataBlocks(i).name in DescriptorBlocknames_no3D) for i in range(len(dataBlocks))]\n",
    "flags_w3D = [int(dataBlocks(i).name in DescriptorBlocknames_w3D) for i in range(len(dataBlocks))]\n",
    "\n",
    "DB_no3D = CustomMolDataset(ligs,\n",
    "                  representation_flags = flags_no3D,\n",
    "                  X_filter=X_filt_no3D,  # feature filter\n",
    "                  normalize_x = True,   # now we normalize the features\n",
    "                  use_hdf5_cache = \"read-only\", # read cache from file\n",
    "                  name = \"EGFR_set_all_features\"\n",
    "                 )\n",
    "DB_no3D.find_normalization_factors() # will also build a faster in-memory cache\n",
    "DB_no3D.cache_fp.close() # close the file handle so next dataset can also access it\n",
    "\n",
    "\n",
    "DB_w3D = CustomMolDataset(ligs,\n",
    "                  representation_flags = flags_w3D,\n",
    "                  X_filter=X_filt_w3D, # feature filter\n",
    "                  normalize_x = True,   # now we normalize the features\n",
    "                  use_hdf5_cache = \"read-only\", # read cache from file\n",
    "                  name = \"EGFR_set_all_features\"\n",
    "                 )\n",
    "DB_no3D.find_normalization_factors()\n",
    "DB_no3D.cache_fp.close()"
   ]
  },
  {
   "cell_type": "markdown",
   "id": "fd6466b1",
   "metadata": {},
   "source": [
    "# Train/Validation and cross-validation splits\n",
    "Some models have meta-parameters that need tuning. This should not be done on the validation set, so we will do this tuning on cross-validation splits within the training set."
   ]
  },
  {
   "cell_type": "code",
   "execution_count": 13,
   "id": "3e9748c0",
   "metadata": {},
   "outputs": [],
   "source": [
    "from sklearn.model_selection import KFold, train_test_split\n",
    "\n",
    "# settings\n",
    "split_seed = 123450\n",
    "test_frac = 0.2\n",
    "xval_folds = 5\n",
    "\n",
    "# split the 2D only features\n",
    "(\n",
    "    no3D_train_x,\n",
    "    no3D_test_x,\n",
    "    no3D_train_y,\n",
    "    no3D_test_y,\n",
    ") = train_test_split(DB_no3D.internal_filtered_cache[0],\n",
    "                     DB_no3D.internal_filtered_cache[1],\n",
    "                     test_size=test_frac, random_state=split_seed)\n",
    "\n",
    "# split the 2D+3D features\n",
    "(\n",
    "    w3D_train_x,\n",
    "    w3D_test_x,\n",
    "    w3D_train_y,\n",
    "    w3D_test_y,\n",
    ") = train_test_split(DB_no3D.internal_filtered_cache[0],\n",
    "                     DB_no3D.internal_filtered_cache[1],\n",
    "                     test_size=test_frac, random_state=split_seed)\n",
    "\n",
    "# cross-validation\n",
    "kf = KFold(n_splits=xval_folds, shuffle=True, random_state=split_seed+1978727) # shift seed by a prime"
   ]
  },
  {
   "cell_type": "markdown",
   "id": "17d3987a",
   "metadata": {},
   "source": [
    "# Set up a lists of models and their performances"
   ]
  },
  {
   "cell_type": "code",
   "execution_count": null,
   "id": "958aabe5",
   "metadata": {},
   "outputs": [],
   "source": [
    "model_names=[]\n",
    "model_AUCs=[]\n",
    "model_L1s=[]\n",
    "model_ROCs_TPR=[]\n",
    "model_ROCs_FPR=[]"
   ]
  },
  {
   "cell_type": "markdown",
   "id": "8007de1f",
   "metadata": {},
   "source": [
    "# Functions that summarize classifier performance"
   ]
  },
  {
   "cell_type": "code",
   "execution_count": null,
   "id": "b9bcb27e",
   "metadata": {},
   "outputs": [],
   "source": [
    "# TODO"
   ]
  },
  {
   "cell_type": "markdown",
   "id": "706891fe",
   "metadata": {},
   "source": [
    "# Train SVMs"
   ]
  },
  {
   "cell_type": "code",
   "execution_count": 15,
   "id": "7294a5d1",
   "metadata": {},
   "outputs": [],
   "source": [
    "from sklearn.svm import SVC\n",
    "\n",
    "svm_lin = SVC(kernel=\"linear\", C=0.025, random_state=42)"
   ]
  }
 ],
 "metadata": {
  "kernelspec": {
   "display_name": "Python 3 (ipykernel)",
   "language": "python",
   "name": "python3"
  },
  "language_info": {
   "codemirror_mode": {
    "name": "ipython",
    "version": 3
   },
   "file_extension": ".py",
   "mimetype": "text/x-python",
   "name": "python",
   "nbconvert_exporter": "python",
   "pygments_lexer": "ipython3",
   "version": "3.8.10"
  }
 },
 "nbformat": 4,
 "nbformat_minor": 5
}
